{
 "cells": [
  {
   "cell_type": "code",
   "execution_count": null,
   "id": "253dcdd7",
   "metadata": {},
   "outputs": [],
   "source": [
    "import os\n",
    "from dotenv import load_dotenv\n",
    "import clickhouse_connect\n",
    "\n",
    "# Load environment variables\n",
    "load_dotenv()\n",
    "\n",
    "# --- ClickHouse Configuration ---\n",
    "CH_HOST = os.getenv('CH_HOST', 'localhost')\n",
    "CH_PORT = int(os.getenv('CH_PORT', '18123')) # Often 8123 for HTTP, 9000 for native. Check your setup.\n",
    "CH_USER = os.getenv('CH_USER', 'default')\n",
    "CH_PASSWORD = os.getenv('CH_PASSWORD', '') # Default to empty string if not set\n",
    "CH_DATABASE = os.getenv('CH_DATABASE', 'default') # Optional: specify default database\n",
    "\n",
    "# --- ClickHouse Connection ---\n",
    "def get_clickhouse_client():\n",
    "    \"\"\"\n",
    "    Creates and returns a ClickHouse client instance.\n",
    "    Raises ConnectionError if connection fails immediately.\n",
    "    \"\"\"\n",
    "    # Recommended: Use database parameter during client creation\n",
    "    client = clickhouse_connect.get_client(\n",
    "        host='localhost',\n",
    "        port='18123',\n",
    "        user='default',\n",
    "        password='chdefault!9',\n",
    "        database='cn_futures', # Connect directly to the default DB if needed\n",
    "    )\n",
    "    return client"
   ]
  },
  {
   "cell_type": "code",
   "execution_count": 4,
   "id": "f2b2b491",
   "metadata": {},
   "outputs": [
    {
     "name": "stdout",
     "output_type": "stream",
     "text": [
      "✅ ClickHouse client created and connection tested successfully to localhost:18123\n"
     ]
    }
   ],
   "source": [
    "client = get_clickhouse_client()\n",
    "# Perform a quick test query to ensure connectivity\n",
    "client.query_arrow(\"SELECT 1\")\n",
    "print(f\"✅ ClickHouse client created and connection tested successfully to {CH_HOST}:{CH_PORT}\")"
   ]
  },
  {
   "cell_type": "code",
   "execution_count": null,
   "id": "024a7e92",
   "metadata": {},
   "outputs": [
    {
     "data": {
      "text/plain": [
       "pyarrow.Table\n",
       "count(): uint64 not null\n",
       "----\n",
       "count(): [[803010]]"
      ]
     },
     "execution_count": 9,
     "metadata": {},
     "output_type": "execute_result"
    }
   ],
   "source": []
  },
  {
   "cell_type": "code",
   "execution_count": 13,
   "id": "3b763eb4",
   "metadata": {},
   "outputs": [
    {
     "data": {
      "text/plain": [
       "pyarrow.Table\n",
       "datetime: uint64 not null\n",
       "date: uint32 not null\n",
       "instrument: string not null\n",
       "open: double not null\n",
       "high: double not null\n",
       "low: double not null\n",
       "close: double not null\n",
       "total_volume: uint64 not null\n",
       "total_turnover: double not null\n",
       "total_open_interest: double not null\n",
       "----\n",
       "datetime: [[20250102090100,20250102090200,20250102090300,20250102090400,20250102090500,...,20250506145600,20250506145700,20250506145800,20250506145900,20250506150000]]\n",
       "date: [[20250102,20250102,20250102,20250102,20250102,...,20250506,20250506,20250506,20250506,20250506]]\n",
       "instrument: [[\"RB\",\"RB\",\"RB\",\"RB\",\"RB\",...,\"RB\",\"RB\",\"RB\",\"RB\",\"RB\"]]\n",
       "open: [[3303.0616063932043,3293.276703391338,3290.05165238781,3286.099404168303,3284.026138518707,...,3078.8938132519706,3079.7065213713718,3079.738034343199,3078.157167892698,3078.7478685704796]]\n",
       "high: [[3304.6637112673916,3295.3248209789294,3292.4768622732227,3286.3223111776983,3288.0366024171144,...,3079.816560308682,3079.9055546368472,3079.7847171317894,3079.0473297684284,3078.9891710735]]\n",
       "low: [[3286.0347973123094,3287.300136664451,3285.1374432399684,3282.1296164829046,3283.2280177189737,...,3078.0782765636905,3078.1787812606326,3077.1097843635607,3077.0922138226842,3076.279576822113]]\n",
       "close: [[3292.6349418470036,3290.166271962258,3285.993442671959,3283.3786297270294,3287.000022860182,...,3079.771165745573,3079.0769540449455,3078.772085246765,3078.8215718008128,3077.2130782016766]]\n",
       "total_volume: [[100699,33768,26113,34227,17997,...,2225,4039,6704,14155,11044]]\n",
       "total_turnover: [[3314534820,1111771380,859395490,1124483500,591815520,...,68493560,124352760,206341390,435658460,339927820]]\n",
       "total_open_interest: [[2137895,2136620,2140811,2143894,2143465,...,2631835,2630505,2627478,2625409,2625468]]"
      ]
     },
     "execution_count": 13,
     "metadata": {},
     "output_type": "execute_result"
    }
   ],
   "source": [
    "code = 'RB'\n",
    "query = f\"\"\"SELECT\n",
    "    datetime,\n",
    "    date,\n",
    "    instrument,\n",
    "    -- 使用 -Merge 组合子合并状态，并计算加权平均\n",
    "    sumMerge(sum_open_oi_state) / sumMerge(sum_oi_state) AS open,\n",
    "    sumMerge(sum_high_oi_state) / sumMerge(sum_oi_state) AS high,\n",
    "    sumMerge(sum_low_oi_state) / sumMerge(sum_oi_state) AS low,\n",
    "    sumMerge(sum_close_oi_state) / sumMerge(sum_oi_state) AS close,\n",
    "    -- 使用 -Merge 组合子合并 sum 状态\n",
    "    sumMerge(sum_volume_state) AS total_volume,\n",
    "    sumMerge(sum_turnover_state) AS total_turnover,\n",
    "    sumMerge(sum_oi_state) AS total_open_interest -- OI 的总和也是一个有用的指标\n",
    "FROM cn_futures.agg_bars_1m\n",
    "where date>20250101 and instrument = '{code}'\n",
    "GROUP BY datetime, date, instrument -- 按聚合的键分组，以完成状态的最终合并\n",
    "ORDER BY datetime ASC, instrument ASC\"\"\"\n",
    "\n",
    "client.query_arrow(query)"
   ]
  },
  {
   "cell_type": "code",
   "execution_count": null,
   "id": "0f19b1e7",
   "metadata": {},
   "outputs": [],
   "source": []
  }
 ],
 "metadata": {
  "kernelspec": {
   "display_name": "Python 3",
   "language": "python",
   "name": "python3"
  },
  "language_info": {
   "codemirror_mode": {
    "name": "ipython",
    "version": 3
   },
   "file_extension": ".py",
   "mimetype": "text/x-python",
   "name": "python",
   "nbconvert_exporter": "python",
   "pygments_lexer": "ipython3",
   "version": "3.10.16"
  }
 },
 "nbformat": 4,
 "nbformat_minor": 5
}
